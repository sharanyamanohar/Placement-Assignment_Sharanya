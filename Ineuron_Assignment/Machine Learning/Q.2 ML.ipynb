{
 "cells": [
  {
   "cell_type": "markdown",
   "id": "fafd3e96",
   "metadata": {},
   "source": [
    "Q-2. Imagine you have a dataset where you have different features like Age ,\n",
    "\n",
    "Gender , Height , Weight , BMI , and Blood Pressure and you have to classify the people into\n",
    "different classes like Normal , Overweight , Obesity , Underweight , and Extreme Obesity by using\n",
    "any 4 different classification algorithms. Now you have to build a model which\n",
    "can classify people into different classes.\n",
    "Dataset This is the Dataset You can use this dataset for this question."
   ]
  },
  {
   "cell_type": "code",
   "execution_count": 27,
   "id": "53d81e9f",
   "metadata": {},
   "outputs": [],
   "source": [
    "import numpy as np\n",
    "import pandas as pd\n",
    "from matplotlib import pyplot as  plt\n",
    "import seaborn as sns\n",
    "\n",
    "from sklearn.model_selection import train_test_split,cross_validate\n",
    "from sklearn.preprocessing import LabelEncoder\n",
    "from sklearn.preprocessing import StandardScaler\n",
    "from sklearn.linear_model import LogisticRegression\n",
    "from sklearn.metrics import accuracy_score\n",
    "from sklearn.metrics import confusion_matrix\n",
    "from sklearn.metrics import roc_curve, roc_auc_score\n",
    "from sklearn.svm import SVC\n",
    "from sklearn.preprocessing import OrdinalEncoder\n",
    "from sklearn.pipeline import Pipeline\n",
    "from sklearn.ensemble import RandomForestClassifier\n",
    "from sklearn.neighbors import KNeighborsClassifier\n",
    "from sklearn.tree import DecisionTreeClassifier"
   ]
  },
  {
   "cell_type": "code",
   "execution_count": 2,
   "id": "fd75d282",
   "metadata": {},
   "outputs": [
    {
     "data": {
      "text/html": [
       "<div>\n",
       "<style scoped>\n",
       "    .dataframe tbody tr th:only-of-type {\n",
       "        vertical-align: middle;\n",
       "    }\n",
       "\n",
       "    .dataframe tbody tr th {\n",
       "        vertical-align: top;\n",
       "    }\n",
       "\n",
       "    .dataframe thead th {\n",
       "        text-align: right;\n",
       "    }\n",
       "</style>\n",
       "<table border=\"1\" class=\"dataframe\">\n",
       "  <thead>\n",
       "    <tr style=\"text-align: right;\">\n",
       "      <th></th>\n",
       "      <th>Gender</th>\n",
       "      <th>Age</th>\n",
       "      <th>Height</th>\n",
       "      <th>Weight</th>\n",
       "      <th>family_history_with_overweight</th>\n",
       "      <th>FAVC</th>\n",
       "      <th>FCVC</th>\n",
       "      <th>NCP</th>\n",
       "      <th>CAEC</th>\n",
       "      <th>SMOKE</th>\n",
       "      <th>CH2O</th>\n",
       "      <th>SCC</th>\n",
       "      <th>FAF</th>\n",
       "      <th>TUE</th>\n",
       "      <th>CALC</th>\n",
       "      <th>MTRANS</th>\n",
       "      <th>NObeyesdad</th>\n",
       "    </tr>\n",
       "  </thead>\n",
       "  <tbody>\n",
       "    <tr>\n",
       "      <th>0</th>\n",
       "      <td>Female</td>\n",
       "      <td>21.0</td>\n",
       "      <td>1.62</td>\n",
       "      <td>64.0</td>\n",
       "      <td>yes</td>\n",
       "      <td>no</td>\n",
       "      <td>2.0</td>\n",
       "      <td>3.0</td>\n",
       "      <td>Sometimes</td>\n",
       "      <td>no</td>\n",
       "      <td>2.0</td>\n",
       "      <td>no</td>\n",
       "      <td>0.0</td>\n",
       "      <td>1.0</td>\n",
       "      <td>no</td>\n",
       "      <td>Public_Transportation</td>\n",
       "      <td>Normal_Weight</td>\n",
       "    </tr>\n",
       "    <tr>\n",
       "      <th>1</th>\n",
       "      <td>Female</td>\n",
       "      <td>21.0</td>\n",
       "      <td>1.52</td>\n",
       "      <td>56.0</td>\n",
       "      <td>yes</td>\n",
       "      <td>no</td>\n",
       "      <td>3.0</td>\n",
       "      <td>3.0</td>\n",
       "      <td>Sometimes</td>\n",
       "      <td>yes</td>\n",
       "      <td>3.0</td>\n",
       "      <td>yes</td>\n",
       "      <td>3.0</td>\n",
       "      <td>0.0</td>\n",
       "      <td>Sometimes</td>\n",
       "      <td>Public_Transportation</td>\n",
       "      <td>Normal_Weight</td>\n",
       "    </tr>\n",
       "    <tr>\n",
       "      <th>2</th>\n",
       "      <td>Male</td>\n",
       "      <td>23.0</td>\n",
       "      <td>1.80</td>\n",
       "      <td>77.0</td>\n",
       "      <td>yes</td>\n",
       "      <td>no</td>\n",
       "      <td>2.0</td>\n",
       "      <td>3.0</td>\n",
       "      <td>Sometimes</td>\n",
       "      <td>no</td>\n",
       "      <td>2.0</td>\n",
       "      <td>no</td>\n",
       "      <td>2.0</td>\n",
       "      <td>1.0</td>\n",
       "      <td>Frequently</td>\n",
       "      <td>Public_Transportation</td>\n",
       "      <td>Normal_Weight</td>\n",
       "    </tr>\n",
       "    <tr>\n",
       "      <th>3</th>\n",
       "      <td>Male</td>\n",
       "      <td>27.0</td>\n",
       "      <td>1.80</td>\n",
       "      <td>87.0</td>\n",
       "      <td>no</td>\n",
       "      <td>no</td>\n",
       "      <td>3.0</td>\n",
       "      <td>3.0</td>\n",
       "      <td>Sometimes</td>\n",
       "      <td>no</td>\n",
       "      <td>2.0</td>\n",
       "      <td>no</td>\n",
       "      <td>2.0</td>\n",
       "      <td>0.0</td>\n",
       "      <td>Frequently</td>\n",
       "      <td>Walking</td>\n",
       "      <td>Overweight_Level_I</td>\n",
       "    </tr>\n",
       "    <tr>\n",
       "      <th>4</th>\n",
       "      <td>Male</td>\n",
       "      <td>22.0</td>\n",
       "      <td>1.78</td>\n",
       "      <td>89.8</td>\n",
       "      <td>no</td>\n",
       "      <td>no</td>\n",
       "      <td>2.0</td>\n",
       "      <td>1.0</td>\n",
       "      <td>Sometimes</td>\n",
       "      <td>no</td>\n",
       "      <td>2.0</td>\n",
       "      <td>no</td>\n",
       "      <td>0.0</td>\n",
       "      <td>0.0</td>\n",
       "      <td>Sometimes</td>\n",
       "      <td>Public_Transportation</td>\n",
       "      <td>Overweight_Level_II</td>\n",
       "    </tr>\n",
       "  </tbody>\n",
       "</table>\n",
       "</div>"
      ],
      "text/plain": [
       "   Gender   Age  Height  Weight family_history_with_overweight FAVC  FCVC  \\\n",
       "0  Female  21.0    1.62    64.0                            yes   no   2.0   \n",
       "1  Female  21.0    1.52    56.0                            yes   no   3.0   \n",
       "2    Male  23.0    1.80    77.0                            yes   no   2.0   \n",
       "3    Male  27.0    1.80    87.0                             no   no   3.0   \n",
       "4    Male  22.0    1.78    89.8                             no   no   2.0   \n",
       "\n",
       "   NCP       CAEC SMOKE  CH2O  SCC  FAF  TUE        CALC  \\\n",
       "0  3.0  Sometimes    no   2.0   no  0.0  1.0          no   \n",
       "1  3.0  Sometimes   yes   3.0  yes  3.0  0.0   Sometimes   \n",
       "2  3.0  Sometimes    no   2.0   no  2.0  1.0  Frequently   \n",
       "3  3.0  Sometimes    no   2.0   no  2.0  0.0  Frequently   \n",
       "4  1.0  Sometimes    no   2.0   no  0.0  0.0   Sometimes   \n",
       "\n",
       "                  MTRANS           NObeyesdad  \n",
       "0  Public_Transportation        Normal_Weight  \n",
       "1  Public_Transportation        Normal_Weight  \n",
       "2  Public_Transportation        Normal_Weight  \n",
       "3                Walking   Overweight_Level_I  \n",
       "4  Public_Transportation  Overweight_Level_II  "
      ]
     },
     "execution_count": 2,
     "metadata": {},
     "output_type": "execute_result"
    }
   ],
   "source": [
    "df=pd.read_csv(r\"ObesityDataSet_raw_and_data_sinthetic.csv\")\n",
    "df.head()"
   ]
  },
  {
   "cell_type": "code",
   "execution_count": 3,
   "id": "0d7f8e1b",
   "metadata": {},
   "outputs": [
    {
     "data": {
      "text/plain": [
       "Gender                            0\n",
       "Age                               0\n",
       "Height                            0\n",
       "Weight                            0\n",
       "family_history_with_overweight    0\n",
       "FAVC                              0\n",
       "FCVC                              0\n",
       "NCP                               0\n",
       "CAEC                              0\n",
       "SMOKE                             0\n",
       "CH2O                              0\n",
       "SCC                               0\n",
       "FAF                               0\n",
       "TUE                               0\n",
       "CALC                              0\n",
       "MTRANS                            0\n",
       "NObeyesdad                        0\n",
       "dtype: int64"
      ]
     },
     "execution_count": 3,
     "metadata": {},
     "output_type": "execute_result"
    }
   ],
   "source": [
    "df.isnull().sum()"
   ]
  },
  {
   "cell_type": "code",
   "execution_count": 6,
   "id": "a9aad446",
   "metadata": {},
   "outputs": [],
   "source": [
    "#Renaming it\n",
    "df = df.rename(columns={'family_history_with_overweight': 'FHWO',\n",
    "                           'NObeyesdad' : 'BMI',})"
   ]
  },
  {
   "cell_type": "code",
   "execution_count": 8,
   "id": "73a22398",
   "metadata": {},
   "outputs": [
    {
     "name": "stdout",
     "output_type": "stream",
     "text": [
      "Categorical columns that will be ordinal encoded: ['Gender', 'FHWO', 'FAVC', 'CAEC', 'SMOKE', 'SCC', 'CALC', 'MTRANS']\n"
     ]
    }
   ],
   "source": [
    "#Lets see all the object related datatype\n",
    "object_cols = [col for col in df.columns if df[col].dtype == \"object\"]\n",
    "\n",
    "good_label_cols = [col for col in object_cols if set(df[col]).issubset(set(df[col]))]\n",
    "good_label_cols.remove('BMI')\n",
    "\n",
    "print('Categorical columns that will be ordinal encoded:', good_label_cols)"
   ]
  },
  {
   "cell_type": "code",
   "execution_count": 9,
   "id": "590ef1f2",
   "metadata": {},
   "outputs": [],
   "source": [
    "data_transform = df.copy()\n",
    "ordinal_encoder = OrdinalEncoder()\n",
    "data_transform[good_label_cols] = ordinal_encoder.fit_transform(data_transform[good_label_cols])"
   ]
  },
  {
   "cell_type": "code",
   "execution_count": 10,
   "id": "055ef1a0",
   "metadata": {},
   "outputs": [],
   "source": [
    "dic_to_replace = {\"BMI\": {\"Insufficient_Weight\": 0, \n",
    "                          \"Normal_Weight\": 1,\n",
    "                         'Overweight_Level_I': 2,\n",
    "                          'Overweight_Level_II': 3,\n",
    "                          'Obesity_Type_I': 4,\n",
    "                          'Obesity_Type_II': 5,\n",
    "                          'Obesity_Type_III': 6,}\n",
    "                         }\n",
    "data_transform.replace(dic_to_replace, inplace=True)"
   ]
  },
  {
   "cell_type": "code",
   "execution_count": 11,
   "id": "2ad24327",
   "metadata": {},
   "outputs": [],
   "source": [
    "data_input = df.copy()\n",
    "data_input = data_input.drop([\"Gender\",'NCP','SMOKE','MTRANS'],axis=1)"
   ]
  },
  {
   "cell_type": "code",
   "execution_count": 12,
   "id": "ce06efac",
   "metadata": {},
   "outputs": [],
   "source": [
    "#Remove the unnecessary columns\n",
    "good_label_cols.remove('Gender')\n",
    "good_label_cols.remove('SMOKE')\n",
    "good_label_cols.remove('MTRANS')"
   ]
  },
  {
   "cell_type": "code",
   "execution_count": 13,
   "id": "fcf09f00",
   "metadata": {},
   "outputs": [
    {
     "data": {
      "text/html": [
       "<div>\n",
       "<style scoped>\n",
       "    .dataframe tbody tr th:only-of-type {\n",
       "        vertical-align: middle;\n",
       "    }\n",
       "\n",
       "    .dataframe tbody tr th {\n",
       "        vertical-align: top;\n",
       "    }\n",
       "\n",
       "    .dataframe thead th {\n",
       "        text-align: right;\n",
       "    }\n",
       "</style>\n",
       "<table border=\"1\" class=\"dataframe\">\n",
       "  <thead>\n",
       "    <tr style=\"text-align: right;\">\n",
       "      <th></th>\n",
       "      <th>Age</th>\n",
       "      <th>Height</th>\n",
       "      <th>Weight</th>\n",
       "      <th>FHWO</th>\n",
       "      <th>FAVC</th>\n",
       "      <th>FCVC</th>\n",
       "      <th>CAEC</th>\n",
       "      <th>CH2O</th>\n",
       "      <th>SCC</th>\n",
       "      <th>FAF</th>\n",
       "      <th>TUE</th>\n",
       "      <th>CALC</th>\n",
       "      <th>BMI</th>\n",
       "    </tr>\n",
       "  </thead>\n",
       "  <tbody>\n",
       "    <tr>\n",
       "      <th>0</th>\n",
       "      <td>21.084625</td>\n",
       "      <td>1.787264</td>\n",
       "      <td>58.585146</td>\n",
       "      <td>yes</td>\n",
       "      <td>yes</td>\n",
       "      <td>2.530233</td>\n",
       "      <td>Sometimes</td>\n",
       "      <td>2.387945</td>\n",
       "      <td>no</td>\n",
       "      <td>1.976341</td>\n",
       "      <td>1.672508</td>\n",
       "      <td>no</td>\n",
       "      <td>Insufficient_Weight</td>\n",
       "    </tr>\n",
       "    <tr>\n",
       "      <th>1</th>\n",
       "      <td>18.006742</td>\n",
       "      <td>1.700000</td>\n",
       "      <td>50.000000</td>\n",
       "      <td>no</td>\n",
       "      <td>yes</td>\n",
       "      <td>1.003566</td>\n",
       "      <td>Frequently</td>\n",
       "      <td>1.014634</td>\n",
       "      <td>no</td>\n",
       "      <td>0.783676</td>\n",
       "      <td>1.000000</td>\n",
       "      <td>Sometimes</td>\n",
       "      <td>Insufficient_Weight</td>\n",
       "    </tr>\n",
       "    <tr>\n",
       "      <th>2</th>\n",
       "      <td>19.317148</td>\n",
       "      <td>1.731195</td>\n",
       "      <td>49.650897</td>\n",
       "      <td>no</td>\n",
       "      <td>yes</td>\n",
       "      <td>2.919751</td>\n",
       "      <td>Sometimes</td>\n",
       "      <td>1.949308</td>\n",
       "      <td>no</td>\n",
       "      <td>1.940182</td>\n",
       "      <td>1.000000</td>\n",
       "      <td>Sometimes</td>\n",
       "      <td>Insufficient_Weight</td>\n",
       "    </tr>\n",
       "    <tr>\n",
       "      <th>3</th>\n",
       "      <td>19.000000</td>\n",
       "      <td>1.530875</td>\n",
       "      <td>42.000000</td>\n",
       "      <td>no</td>\n",
       "      <td>no</td>\n",
       "      <td>2.844607</td>\n",
       "      <td>Frequently</td>\n",
       "      <td>1.695510</td>\n",
       "      <td>no</td>\n",
       "      <td>0.260079</td>\n",
       "      <td>0.635867</td>\n",
       "      <td>Sometimes</td>\n",
       "      <td>Insufficient_Weight</td>\n",
       "    </tr>\n",
       "    <tr>\n",
       "      <th>4</th>\n",
       "      <td>21.798856</td>\n",
       "      <td>1.672007</td>\n",
       "      <td>49.980968</td>\n",
       "      <td>yes</td>\n",
       "      <td>yes</td>\n",
       "      <td>2.979383</td>\n",
       "      <td>Frequently</td>\n",
       "      <td>2.975887</td>\n",
       "      <td>no</td>\n",
       "      <td>0.945093</td>\n",
       "      <td>1.241755</td>\n",
       "      <td>no</td>\n",
       "      <td>Insufficient_Weight</td>\n",
       "    </tr>\n",
       "    <tr>\n",
       "      <th>...</th>\n",
       "      <td>...</td>\n",
       "      <td>...</td>\n",
       "      <td>...</td>\n",
       "      <td>...</td>\n",
       "      <td>...</td>\n",
       "      <td>...</td>\n",
       "      <td>...</td>\n",
       "      <td>...</td>\n",
       "      <td>...</td>\n",
       "      <td>...</td>\n",
       "      <td>...</td>\n",
       "      <td>...</td>\n",
       "      <td>...</td>\n",
       "    </tr>\n",
       "    <tr>\n",
       "      <th>267</th>\n",
       "      <td>28.167799</td>\n",
       "      <td>1.658202</td>\n",
       "      <td>78.000000</td>\n",
       "      <td>yes</td>\n",
       "      <td>yes</td>\n",
       "      <td>2.938031</td>\n",
       "      <td>Sometimes</td>\n",
       "      <td>1.931242</td>\n",
       "      <td>no</td>\n",
       "      <td>0.525002</td>\n",
       "      <td>0.371941</td>\n",
       "      <td>Frequently</td>\n",
       "      <td>Overweight_Level_II</td>\n",
       "    </tr>\n",
       "    <tr>\n",
       "      <th>268</th>\n",
       "      <td>18.000000</td>\n",
       "      <td>1.751278</td>\n",
       "      <td>86.963628</td>\n",
       "      <td>yes</td>\n",
       "      <td>no</td>\n",
       "      <td>3.000000</td>\n",
       "      <td>Sometimes</td>\n",
       "      <td>2.000000</td>\n",
       "      <td>no</td>\n",
       "      <td>1.271667</td>\n",
       "      <td>0.155278</td>\n",
       "      <td>Sometimes</td>\n",
       "      <td>Overweight_Level_II</td>\n",
       "    </tr>\n",
       "    <tr>\n",
       "      <th>269</th>\n",
       "      <td>23.000000</td>\n",
       "      <td>1.715118</td>\n",
       "      <td>81.650778</td>\n",
       "      <td>yes</td>\n",
       "      <td>yes</td>\n",
       "      <td>2.000000</td>\n",
       "      <td>Sometimes</td>\n",
       "      <td>1.628997</td>\n",
       "      <td>no</td>\n",
       "      <td>0.880584</td>\n",
       "      <td>1.127675</td>\n",
       "      <td>Sometimes</td>\n",
       "      <td>Overweight_Level_II</td>\n",
       "    </tr>\n",
       "    <tr>\n",
       "      <th>270</th>\n",
       "      <td>19.703095</td>\n",
       "      <td>1.704141</td>\n",
       "      <td>78.790936</td>\n",
       "      <td>yes</td>\n",
       "      <td>no</td>\n",
       "      <td>1.650505</td>\n",
       "      <td>Sometimes</td>\n",
       "      <td>2.000000</td>\n",
       "      <td>no</td>\n",
       "      <td>1.732340</td>\n",
       "      <td>1.000000</td>\n",
       "      <td>Sometimes</td>\n",
       "      <td>Overweight_Level_II</td>\n",
       "    </tr>\n",
       "    <tr>\n",
       "      <th>271</th>\n",
       "      <td>32.787101</td>\n",
       "      <td>1.903832</td>\n",
       "      <td>99.812443</td>\n",
       "      <td>yes</td>\n",
       "      <td>yes</td>\n",
       "      <td>2.000000</td>\n",
       "      <td>Sometimes</td>\n",
       "      <td>2.196471</td>\n",
       "      <td>no</td>\n",
       "      <td>1.000000</td>\n",
       "      <td>0.000000</td>\n",
       "      <td>Sometimes</td>\n",
       "      <td>Overweight_Level_II</td>\n",
       "    </tr>\n",
       "  </tbody>\n",
       "</table>\n",
       "<p>1904 rows × 13 columns</p>\n",
       "</div>"
      ],
      "text/plain": [
       "           Age    Height     Weight FHWO FAVC      FCVC        CAEC      CH2O  \\\n",
       "0    21.084625  1.787264  58.585146  yes  yes  2.530233   Sometimes  2.387945   \n",
       "1    18.006742  1.700000  50.000000   no  yes  1.003566  Frequently  1.014634   \n",
       "2    19.317148  1.731195  49.650897   no  yes  2.919751   Sometimes  1.949308   \n",
       "3    19.000000  1.530875  42.000000   no   no  2.844607  Frequently  1.695510   \n",
       "4    21.798856  1.672007  49.980968  yes  yes  2.979383  Frequently  2.975887   \n",
       "..         ...       ...        ...  ...  ...       ...         ...       ...   \n",
       "267  28.167799  1.658202  78.000000  yes  yes  2.938031   Sometimes  1.931242   \n",
       "268  18.000000  1.751278  86.963628  yes   no  3.000000   Sometimes  2.000000   \n",
       "269  23.000000  1.715118  81.650778  yes  yes  2.000000   Sometimes  1.628997   \n",
       "270  19.703095  1.704141  78.790936  yes   no  1.650505   Sometimes  2.000000   \n",
       "271  32.787101  1.903832  99.812443  yes  yes  2.000000   Sometimes  2.196471   \n",
       "\n",
       "    SCC       FAF       TUE        CALC                  BMI  \n",
       "0    no  1.976341  1.672508          no  Insufficient_Weight  \n",
       "1    no  0.783676  1.000000   Sometimes  Insufficient_Weight  \n",
       "2    no  1.940182  1.000000   Sometimes  Insufficient_Weight  \n",
       "3    no  0.260079  0.635867   Sometimes  Insufficient_Weight  \n",
       "4    no  0.945093  1.241755          no  Insufficient_Weight  \n",
       "..   ..       ...       ...         ...                  ...  \n",
       "267  no  0.525002  0.371941  Frequently  Overweight_Level_II  \n",
       "268  no  1.271667  0.155278   Sometimes  Overweight_Level_II  \n",
       "269  no  0.880584  1.127675   Sometimes  Overweight_Level_II  \n",
       "270  no  1.732340  1.000000   Sometimes  Overweight_Level_II  \n",
       "271  no  1.000000  0.000000   Sometimes  Overweight_Level_II  \n",
       "\n",
       "[1904 rows x 13 columns]"
      ]
     },
     "execution_count": 13,
     "metadata": {},
     "output_type": "execute_result"
    }
   ],
   "source": [
    "data_grouped_by = data_input.groupby(['BMI'])\n",
    "data_balanced = data_grouped_by.apply(lambda x: x.sample(data_grouped_by.size().min()).reset_index(drop=True))\n",
    "data_bal = data_balanced.droplevel(['BMI'])\n",
    "data_bal"
   ]
  },
  {
   "cell_type": "code",
   "execution_count": 15,
   "id": "e1cb7476",
   "metadata": {},
   "outputs": [],
   "source": [
    "data_preprocess = pd.get_dummies(data_bal, columns = good_label_cols)\n",
    "dic_to_replace = {\"BMI\": {\"Insufficient_Weight\": 0, \n",
    "                          \"Normal_Weight\": 1,\n",
    "                         'Overweight_Level_I': 2,\n",
    "                          'Overweight_Level_II': 3,\n",
    "                          'Obesity_Type_I': 4,\n",
    "                          'Obesity_Type_II': 5,\n",
    "                          'Obesity_Type_III': 6,}\n",
    "                         }\n",
    "data_preprocess.replace(dic_to_replace, inplace=True)"
   ]
  },
  {
   "cell_type": "code",
   "execution_count": 16,
   "id": "ad821241",
   "metadata": {},
   "outputs": [],
   "source": [
    "target_name = 'BMI'\n",
    "labels = data_preprocess[target_name]\n",
    "features = data_preprocess.drop(target_name, axis=1)"
   ]
  },
  {
   "cell_type": "code",
   "execution_count": 18,
   "id": "c3228f60",
   "metadata": {},
   "outputs": [],
   "source": [
    "from sklearn.preprocessing import MinMaxScaler\n",
    "features = MinMaxScaler().fit_transform(features)"
   ]
  },
  {
   "cell_type": "code",
   "execution_count": 19,
   "id": "7641a17d",
   "metadata": {},
   "outputs": [],
   "source": [
    "from sklearn.model_selection import train_test_split\n",
    "\n",
    "train_features, test_features, train_labels, test_labels = train_test_split(\n",
    "    features, labels, train_size=0.8, random_state=123\n",
    ")"
   ]
  },
  {
   "cell_type": "markdown",
   "id": "c29321e9",
   "metadata": {},
   "source": [
    "## RandomForest Classifier "
   ]
  },
  {
   "cell_type": "code",
   "execution_count": 20,
   "id": "10407e95",
   "metadata": {},
   "outputs": [
    {
     "data": {
      "text/plain": [
       "RandomForestClassifier()"
      ]
     },
     "execution_count": 20,
     "metadata": {},
     "output_type": "execute_result"
    }
   ],
   "source": [
    "from sklearn.ensemble import RandomForestClassifier\n",
    "\n",
    "rfc = RandomForestClassifier()\n",
    "\n",
    "rfc.fit(train_features,train_labels)"
   ]
  },
  {
   "cell_type": "code",
   "execution_count": 22,
   "id": "888ff10b",
   "metadata": {},
   "outputs": [
    {
     "name": "stdout",
     "output_type": "stream",
     "text": [
      "Classical Random Forest Classifier on the training dataset: 1.00\n",
      "Classical Random Forest Classifier on the test dataset: 0.93\n"
     ]
    }
   ],
   "source": [
    "train_score = rfc.score(train_features, train_labels)\n",
    "test_score = rfc.score(test_features, test_labels)\n",
    "\n",
    "print(f\"Classical Random Forest Classifier on the training dataset: {train_score:.2f}\")\n",
    "print(f\"Classical Random Forest Classifier on the test dataset: {test_score:.2f}\")"
   ]
  },
  {
   "cell_type": "markdown",
   "id": "cec14b06",
   "metadata": {},
   "source": [
    "## Logistic Regression "
   ]
  },
  {
   "cell_type": "code",
   "execution_count": 23,
   "id": "e70af7ae",
   "metadata": {},
   "outputs": [
    {
     "name": "stderr",
     "output_type": "stream",
     "text": [
      "C:\\Users\\Admin\\anaconda3\\lib\\site-packages\\sklearn\\linear_model\\_logistic.py:814: ConvergenceWarning: lbfgs failed to converge (status=1):\n",
      "STOP: TOTAL NO. of ITERATIONS REACHED LIMIT.\n",
      "\n",
      "Increase the number of iterations (max_iter) or scale the data as shown in:\n",
      "    https://scikit-learn.org/stable/modules/preprocessing.html\n",
      "Please also refer to the documentation for alternative solver options:\n",
      "    https://scikit-learn.org/stable/modules/linear_model.html#logistic-regression\n",
      "  n_iter_i = _check_optimize_result(\n"
     ]
    },
    {
     "data": {
      "text/plain": [
       "LogisticRegression()"
      ]
     },
     "execution_count": 23,
     "metadata": {},
     "output_type": "execute_result"
    }
   ],
   "source": [
    "lr=LogisticRegression()\n",
    "lr.fit(train_features,train_labels)"
   ]
  },
  {
   "cell_type": "code",
   "execution_count": 24,
   "id": "0022fc16",
   "metadata": {},
   "outputs": [
    {
     "name": "stdout",
     "output_type": "stream",
     "text": [
      "Classical Logistic Regression on the training dataset: 0.70\n",
      "Classical Logistic Regression on the test dataset: 0.69\n"
     ]
    }
   ],
   "source": [
    "train_score = lr.score(train_features, train_labels)\n",
    "test_score = lr.score(test_features, test_labels)\n",
    "\n",
    "print(f\"Classical Logistic Regression on the training dataset: {train_score:.2f}\")\n",
    "print(f\"Classical Logistic Regression on the test dataset: {test_score:.2f}\")"
   ]
  },
  {
   "cell_type": "markdown",
   "id": "42f97304",
   "metadata": {},
   "source": [
    "## SVC(Support vector classifier) "
   ]
  },
  {
   "cell_type": "code",
   "execution_count": 25,
   "id": "0e68145b",
   "metadata": {},
   "outputs": [
    {
     "data": {
      "text/plain": [
       "SVC()"
      ]
     },
     "execution_count": 25,
     "metadata": {},
     "output_type": "execute_result"
    }
   ],
   "source": [
    "svc=SVC()\n",
    "svc.fit(train_features,train_labels)"
   ]
  },
  {
   "cell_type": "code",
   "execution_count": 26,
   "id": "6d25d65f",
   "metadata": {},
   "outputs": [
    {
     "name": "stdout",
     "output_type": "stream",
     "text": [
      "Classical Logistic Regression on the training dataset: 0.74\n",
      "Classical Logistic Regression on the test dataset: 0.74\n"
     ]
    }
   ],
   "source": [
    "train_score = svc.score(train_features, train_labels)\n",
    "test_score = svc.score(test_features, test_labels)\n",
    "\n",
    "print(f\"Classical Logistic Regression on the training dataset: {train_score:.2f}\")\n",
    "print(f\"Classical Logistic Regression on the test dataset: {test_score:.2f}\")"
   ]
  },
  {
   "cell_type": "markdown",
   "id": "b731cd77",
   "metadata": {},
   "source": [
    "## KNN "
   ]
  },
  {
   "cell_type": "code",
   "execution_count": 28,
   "id": "90e9a890",
   "metadata": {},
   "outputs": [
    {
     "data": {
      "text/plain": [
       "KNeighborsClassifier()"
      ]
     },
     "execution_count": 28,
     "metadata": {},
     "output_type": "execute_result"
    }
   ],
   "source": [
    "knn=KNeighborsClassifier()\n",
    "knn.fit(train_features,train_labels)"
   ]
  },
  {
   "cell_type": "code",
   "execution_count": 29,
   "id": "8b20b349",
   "metadata": {},
   "outputs": [
    {
     "name": "stdout",
     "output_type": "stream",
     "text": [
      "Classical Logistic Regression on the training dataset: 0.82\n",
      "Classical Logistic Regression on the test dataset: 0.79\n"
     ]
    }
   ],
   "source": [
    "train_score = knn.score(train_features, train_labels)\n",
    "test_score = knn.score(test_features, test_labels)\n",
    "\n",
    "print(f\"Classical Logistic Regression on the training dataset: {train_score:.2f}\")\n",
    "print(f\"Classical Logistic Regression on the test dataset: {test_score:.2f}\")"
   ]
  },
  {
   "cell_type": "markdown",
   "id": "89cd74fb",
   "metadata": {},
   "source": [
    "## Decision tree"
   ]
  },
  {
   "cell_type": "code",
   "execution_count": 31,
   "id": "23e66325",
   "metadata": {},
   "outputs": [
    {
     "data": {
      "text/plain": [
       "DecisionTreeClassifier()"
      ]
     },
     "execution_count": 31,
     "metadata": {},
     "output_type": "execute_result"
    }
   ],
   "source": [
    "dt=DecisionTreeClassifier()\n",
    "dt.fit(train_features,train_labels)"
   ]
  },
  {
   "cell_type": "code",
   "execution_count": 32,
   "id": "a8e0aeb1",
   "metadata": {},
   "outputs": [
    {
     "name": "stdout",
     "output_type": "stream",
     "text": [
      "Classical Logistic Regression on the training dataset: 1.00\n",
      "Classical Logistic Regression on the test dataset: 0.92\n"
     ]
    }
   ],
   "source": [
    "train_score = dt.score(train_features, train_labels)\n",
    "test_score = dt.score(test_features, test_labels)\n",
    "\n",
    "print(f\"Classical Logistic Regression on the training dataset: {train_score:.2f}\")\n",
    "print(f\"Classical Logistic Regression on the test dataset: {test_score:.2f}\")"
   ]
  }
 ],
 "metadata": {
  "kernelspec": {
   "display_name": "Python 3 (ipykernel)",
   "language": "python",
   "name": "python3"
  },
  "language_info": {
   "codemirror_mode": {
    "name": "ipython",
    "version": 3
   },
   "file_extension": ".py",
   "mimetype": "text/x-python",
   "name": "python",
   "nbconvert_exporter": "python",
   "pygments_lexer": "ipython3",
   "version": "3.9.12"
  }
 },
 "nbformat": 4,
 "nbformat_minor": 5
}
