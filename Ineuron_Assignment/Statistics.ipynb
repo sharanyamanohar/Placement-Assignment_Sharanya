{
 "cells": [
  {
   "cell_type": "markdown",
   "id": "65ba97d6",
   "metadata": {},
   "source": [
    "Q-1. A university wants to understand the relationship between the SAT scores of its\n",
    "applicants and their college GPA. They collect data on 500 students, including their SAT\n",
    "scores (out of 1600) and their college GPA (on a 4.0 scale). They find that the correlation\n",
    "coefficient between SAT scores and college GPA is 0.7. What does this correlation\n",
    "coefficient indicate about the relationship between SAT scores and college GPA?"
   ]
  },
  {
   "cell_type": "markdown",
   "id": "47e815d4",
   "metadata": {},
   "source": [
    "Sol-\n",
    "A correlation coefficient of 0.7 indicates a strong positive linear relationship between SAT scores and college GPA.\n",
    "\n",
    "In other words, there is a strong tendency for students with higher SAT scores to also have higher college GPAs, and vice versa. The positive sign of the correlation coefficient indicates that as SAT scores increase, college GPAs tend to increase as well.\n",
    "\n",
    "It's important to note that correlation does not imply causation. While there is a strong correlation between SAT scores and college GPA, it does not necessarily mean that SAT scores directly cause higher or lower college GPAs. Other factors, such as study habits, motivation, and personal characteristics, may also contribute to a student's academic performance."
   ]
  },
  {
   "cell_type": "markdown",
   "id": "476d0fb2",
   "metadata": {},
   "source": [
    "Q-2. Consider a dataset containing the heights (in centimeters) of 1000 individuals. The\n",
    "mean height is 170 cm with a standard deviation of 10 cm. The dataset is approximately\n",
    "normally distributed, and its skewness is approximately zero. Based on this information,\n",
    "answer the following questions:\n",
    "a. What percentage of individuals in the dataset have heights between 160 cm\n",
    "and 180 cm?\n",
    "\n",
    "b. If we randomly select 100 individuals from the dataset, what is the probability\n",
    "that their average height is greater than 175 cm?\n",
    "\n",
    "c. Assuming the dataset follows a normal distribution, what is the z-score\n",
    "corresponding to a height of 185 cm?\n",
    "\n",
    "d. We know that 5% of the dataset has heights below a certain value. What is\n",
    "the approximate height corresponding to this threshold?\n",
    "\n",
    "e. Calculate the coefficient of variation (CV) for the dataset.\n",
    "\n",
    "f. Calculate the skewness of the dataset and interpret the result."
   ]
  },
  {
   "cell_type": "code",
   "execution_count": 12,
   "id": "0c7ddf53",
   "metadata": {},
   "outputs": [
    {
     "name": "stdout",
     "output_type": "stream",
     "text": [
      "68.26894921370858\n"
     ]
    }
   ],
   "source": [
    "#a\n",
    "import scipy.stats as stats\n",
    "\n",
    "mean = 170\n",
    "std_dev = 10\n",
    "\n",
    "percentage = (stats.norm.cdf(180, mean, std_dev) - stats.norm.cdf(160, mean, std_dev)) * 100\n",
    "print(percentage)"
   ]
  },
  {
   "cell_type": "code",
   "execution_count": 13,
   "id": "653d155b",
   "metadata": {},
   "outputs": [
    {
     "name": "stdout",
     "output_type": "stream",
     "text": [
      "2.866515719235352e-07\n"
     ]
    }
   ],
   "source": [
    "#b\n",
    "sample_size = 100\n",
    "sample_mean = mean\n",
    "sample_std_dev = std_dev / (sample_size ** 0.5)\n",
    "\n",
    "probability = 1 - stats.norm.cdf(175, sample_mean, sample_std_dev)\n",
    "print(probability)"
   ]
  },
  {
   "cell_type": "code",
   "execution_count": 14,
   "id": "3fa015ef",
   "metadata": {},
   "outputs": [
    {
     "name": "stdout",
     "output_type": "stream",
     "text": [
      "1.5\n"
     ]
    }
   ],
   "source": [
    "#c\n",
    "z_score = (185 - mean) / std_dev\n",
    "print(z_score)"
   ]
  },
  {
   "cell_type": "code",
   "execution_count": 15,
   "id": "327c6244",
   "metadata": {},
   "outputs": [
    {
     "name": "stdout",
     "output_type": "stream",
     "text": [
      "153.55146373048527\n"
     ]
    }
   ],
   "source": [
    "#d\n",
    "height = stats.norm.ppf(0.05, mean, std_dev)\n",
    "print(height)"
   ]
  },
  {
   "cell_type": "code",
   "execution_count": 16,
   "id": "85b82912",
   "metadata": {},
   "outputs": [
    {
     "name": "stdout",
     "output_type": "stream",
     "text": [
      "5.88235294117647\n"
     ]
    }
   ],
   "source": [
    "#e\n",
    "cv = (std_dev / mean) * 100\n",
    "print(cv)"
   ]
  },
  {
   "cell_type": "markdown",
   "id": "81cd89de",
   "metadata": {},
   "source": [
    "#f\n",
    " The skewness of a dataset measures the asymmetry of its distribution. A skewness value of approximately zero indicates that the dataset is symmetric and does not have a significant tail on either side. In other words, the dataset's distribution is relatively balanced around the mean.\n"
   ]
  },
  {
   "cell_type": "markdown",
   "id": "cc8e84df",
   "metadata": {},
   "source": [
    "Q.3-Consider the ‘Blood Pressure Before’ and ‘Blood Pressure After’ columns from the\n",
    "data and calculate the following\n",
    "https://drive.google.com/file/d/1mCjtYHiX--mMUjicuaP2gH3k-SnFxt8Y/view?usp=share_"
   ]
  },
  {
   "cell_type": "code",
   "execution_count": 17,
   "id": "d9edf4ef",
   "metadata": {},
   "outputs": [
    {
     "name": "stdout",
     "output_type": "stream",
     "text": [
      "Variance before: 43.53727272727271 Variance after: 47.4448484848485\n"
     ]
    }
   ],
   "source": [
    "#a. Measure the dispersion in both and interpret the results.\n",
    "#Sol-\n",
    "import pandas as pd\n",
    "df=pd.read_csv(r\"data.csv\")\n",
    "before_variance = df[\" Blood Pressure Before (mmHg)\"].var()\n",
    "after_variance = df[\" Blood Pressure After (mmHg)\"].var()\n",
    "print(\"Variance before:\",before_variance,\"Variance after:\",after_variance)\n"
   ]
  },
  {
   "cell_type": "code",
   "execution_count": 18,
   "id": "18cd359b",
   "metadata": {},
   "outputs": [
    {
     "name": "stderr",
     "output_type": "stream",
     "text": [
      "C:\\Users\\Admin\\anaconda3\\lib\\site-packages\\numpy\\core\\fromnumeric.py:3438: FutureWarning: In a future version, DataFrame.mean(axis=None) will return a scalar mean over the entire DataFrame. To retain the old behavior, use 'frame.mean(axis=0)' or just 'frame.mean()'\n",
      "  return mean(axis=axis, dtype=dtype, out=out, **kwargs)\n"
     ]
    },
    {
     "name": "stdout",
     "output_type": "stream",
     "text": [
      "Mean: Patient ID                        50.50\n",
      " Blood Pressure Before (mmHg)    133.91\n",
      " Blood Pressure After (mmHg)     128.36\n",
      "dtype: float64\n",
      "Confidence Interval (95%): (array([ 44.74349058, 132.60075849, 126.99326698]), array([ 56.25650942, 135.21924151, 129.72673302]))\n"
     ]
    },
    {
     "data": {
      "image/png": "[encoded data removed]",
      "text/plain": [
       "<Figure size 432x288 with 1 Axes>"
      ]
     },
     "metadata": {
      "needs_background": "light"
     },
     "output_type": "display_data"
    }
   ],
   "source": [
    "#b\n",
    "import numpy as np\n",
    "import matplotlib.pyplot as plt\n",
    "from scipy import stats\n",
    "mean = np.mean(df)\n",
    "confidence_interval = stats.t.interval(0.95, len(df) - 1, loc=mean, scale=stats.sem(df))\n",
    "print(\"Mean:\", mean)\n",
    "print(\"Confidence Interval (95%):\", confidence_interval)\n",
    "#plotting in a bar graph\n",
    "plt.figure()\n",
    "plt.bar(x=1, height=mean, color='red')\n",
    "plt.xticks([])\n",
    "plt.xlim(0.5, 1.5)\n",
    "plt.ylabel(\"Values\")\n",
    "plt.title(\"Mean and 5% Confidence Interval\")\n",
    "plt.show()"
   ]
  },
  {
   "cell_type": "code",
   "execution_count": 19,
   "id": "40fc24fa",
   "metadata": {},
   "outputs": [
    {
     "name": "stdout",
     "output_type": "stream",
     "text": [
      "Mean absolute deviation Patient ID                       25.0000\n",
      " Blood Pressure Before (mmHg)     5.7118\n",
      " Blood Pressure After (mmHg)      5.9000\n",
      "dtype: float64\n",
      "standard deviation Patient ID                       28.866070\n",
      " Blood Pressure Before (mmHg)     6.565204\n",
      " Blood Pressure After (mmHg)      6.853495\n",
      "dtype: float64\n"
     ]
    }
   ],
   "source": [
    "#c\n",
    "ms = np.mean(np.abs(df - np.mean(df)))\n",
    "sd = np.std(df)\n",
    "print(\"Mean absolute deviation\",ms)\n",
    "print(\"standard deviation\",sd)"
   ]
  },
  {
   "cell_type": "code",
   "execution_count": 20,
   "id": "79b8552e",
   "metadata": {},
   "outputs": [
    {
     "name": "stdout",
     "output_type": "stream",
     "text": [
      "Correlation Coefficient: 0.9779485966556017\n",
      "p-value: 1.8097381433072956e-68\n",
      "The correlation coefficient is significant at the 1% level.\n"
     ]
    }
   ],
   "source": [
    "#d\n",
    "variable1 = df[' Blood Pressure Before (mmHg)']\n",
    "variable2 = df[' Blood Pressure After (mmHg)']\n",
    "\n",
    "# Calculate the correlation coefficient and p-value\n",
    "correlation_coefficient, p_value = stats.pearsonr(variable1, variable2)\n",
    "\n",
    "# Print the correlation coefficient and p-value\n",
    "print(\"Correlation Coefficient:\", correlation_coefficient)\n",
    "print(\"p-value:\", p_value)\n",
    "\n",
    "# Check the significance at 1% level\n",
    "if p_value < 0.01:\n",
    "    print(\"The correlation coefficient is significant at the 1% level.\")\n",
    "else:\n",
    "    print(\"The correlation coefficient is not significant at the 1% level.\")"
   ]
  },
  {
   "cell_type": "markdown",
   "id": "fb428026",
   "metadata": {},
   "source": [
    "Q-4. A group of 20 friends decide to play a game in which they each write a number\n",
    "between 1 and 20 on a slip of paper and put it into a hat. They then draw one slip of paper\n",
    "at random. What is the probability that the number on the slip of paper is a perfect square\n",
    "(i.e., 1, 4, 9, or 16)?"
   ]
  },
  {
   "cell_type": "code",
   "execution_count": 21,
   "id": "4b0f29c3",
   "metadata": {},
   "outputs": [
    {
     "name": "stdout",
     "output_type": "stream",
     "text": [
      "The probability of drawing a perfect square number is: 0.2\n"
     ]
    }
   ],
   "source": [
    "#Sol-4\n",
    "total_outcomes = 20\n",
    "favorable_outcomes = 4\n",
    "\n",
    "probability = favorable_outcomes / total_outcomes\n",
    "print(\"The probability of drawing a perfect square number is:\", probability)"
   ]
  },
  {
   "cell_type": "markdown",
   "id": "3ba2d423",
   "metadata": {},
   "source": [
    "Q-5. A certain city has two taxi companies: Company A has 80% of the taxis and\n",
    "Company B has 20% of the taxis. Company A's taxis have a 95% success rate for picking\n",
    "up passengers on time, while Company B's taxis have a 90% success rate. If a randomly\n",
    "selected taxi is late, what is the probability that it belongs to Company A?"
   ]
  },
  {
   "cell_type": "code",
   "execution_count": 22,
   "id": "5eee7357",
   "metadata": {},
   "outputs": [
    {
     "name": "stdout",
     "output_type": "stream",
     "text": [
      "The probability that a randomly selected late taxi belongs to Company A: 0.6666666666666667\n"
     ]
    }
   ],
   "source": [
    "#Sol-5\n",
    "P_A = 0.8\n",
    "P_B_given_A = 0.05\n",
    "P_B_given_B = 0.10\n",
    "\n",
    "P_B = P_B_given_A * P_A + P_B_given_B * (1 - P_A)\n",
    "\n",
    "P_A_given_B = (P_B_given_A * P_A) / P_B\n",
    "\n",
    "# Print the result\n",
    "print(\"The probability that a randomly selected late taxi belongs to Company A:\", P_A_given_B)"
   ]
  },
  {
   "cell_type": "markdown",
   "id": "c68350c3",
   "metadata": {},
   "source": [
    "Q-6. A pharmaceutical company is developing a drug that is supposed to reduce blood\n",
    "pressure. They conduct a clinical trial with 100 patients and record their blood\n",
    "pressure before and after taking the drug. The company wants to know if the change\n",
    "in blood pressure follows a normal distribution.\n",
    "\n",
    "https://drive.google.com/file/d/1mCjtYHiX--mMUjicuaP2gH3k-SnFxt8Y/view?usp=share_"
   ]
  },
  {
   "cell_type": "code",
   "execution_count": 23,
   "id": "0f9359a6",
   "metadata": {},
   "outputs": [
    {
     "data": {
      "image/png": "[encoded data removed]",
      "text/plain": [
       "<Figure size 432x288 with 1 Axes>"
      ]
     },
     "metadata": {
      "needs_background": "light"
     },
     "output_type": "display_data"
    }
   ],
   "source": [
    "# Calculate the change in blood pressure\n",
    "change_in_bp =df[' Blood Pressure After (mmHg)'] - df[' Blood Pressure Before (mmHg)']\n",
    "\n",
    "# Plot a histogram of the change in blood pressure\n",
    "plt.hist(change_in_bp, bins=10, edgecolor='black')\n",
    "plt.xlabel(\"Change in Blood Pressure (mmHg)\")\n",
    "plt.ylabel(\"Frequency\")\n",
    "plt.title(\"Distribution of Change in Blood Pressure\")\n",
    "plt.show()"
   ]
  },
  {
   "cell_type": "code",
   "execution_count": 24,
   "id": "7b23b60f",
   "metadata": {},
   "outputs": [
    {
     "name": "stdout",
     "output_type": "stream",
     "text": [
      "Shapiro-Wilk test statistic: 0.953819990158081\n",
      "p-value: 0.0014938802924007177\n"
     ]
    }
   ],
   "source": [
    "from scipy.stats import shapiro\n",
    "\n",
    "# Perform Shapiro-Wilk test for normality\n",
    "statistic, p_value = shapiro(change_in_bp)\n",
    "\n",
    "# Print the test statistic and p-value\n",
    "print(\"Shapiro-Wilk test statistic:\", statistic)\n",
    "print(\"p-value:\", p_value)"
   ]
  },
  {
   "cell_type": "markdown",
   "id": "7fd6ddbd",
   "metadata": {},
   "source": [
    "Since the p-value (0.0015) is less than the typical significance level of 0.05, we reject the null hypothesis that the data follows a normal distribution. This suggests that the change in blood pressure in the clinical trial does not follow a normal distribution."
   ]
  },
  {
   "cell_type": "markdown",
   "id": "a1d3829d",
   "metadata": {},
   "source": [
    "Q-7. The equations of two lines of regression, obtained in a correlation analysis\n",
    "between variables X and Y are as follows:\n",
    "\n",
    "and . 2X + 3 − 8 = 0 2Y + X − 5 = 0 The variance of X = 4 Find the\n",
    "a. Variance of Y\n",
    "b. Coefficient of determination of C and Y\n",
    "c. Standard error of estimate of X on Y and of Y on X."
   ]
  },
  {
   "cell_type": "markdown",
   "id": "cb85e407",
   "metadata": {},
   "source": [
    "Q-8. The anxiety levels of 10 participants were measured before and after a new therapy.\n",
    "The scores are not normally distributed. Use the Wilcoxon signed-rank test to test whether\n",
    "the therapy had a significant effect on anxiety levels. The data is given below: Participant\n",
    "Before therapy After therapy Difference"
   ]
  },
  {
   "cell_type": "code",
   "execution_count": 25,
   "id": "7a52cf58",
   "metadata": {},
   "outputs": [
    {
     "name": "stdout",
     "output_type": "stream",
     "text": [
      "   Participant  Before therapy  After therapy  Difference\n",
      "0            1              10              7          -3\n",
      "1            2               8              6          -2\n",
      "2            3              12             10          -2\n",
      "3            4              15             12          -3\n",
      "4            5               6              5          -1\n",
      "5            6               9              8          -1\n",
      "6            7              11              9          -2\n",
      "7            8               7              6          -1\n",
      "8            9              14             12          -2\n",
      "9           10              10              8          -2\n"
     ]
    }
   ],
   "source": [
    "import pandas as pd\n",
    "\n",
    "# Create a dictionary with the data\n",
    "data = {\n",
    "    'Participant': [1, 2, 3, 4, 5, 6, 7, 8, 9, 10],\n",
    "    'Before therapy': [10, 8, 12, 15, 6, 9, 11, 7, 14, 10],\n",
    "    'After therapy': [7, 6, 10, 12, 5, 8, 9, 6, 12, 8],\n",
    "    'Difference': [-1, -1, -1, -1, -1, -1, -1, -1, -1, -1]\n",
    "}\n",
    "\n",
    "# Create a DataFrame from the dictionary\n",
    "df1= pd.DataFrame(data)\n",
    "\n",
    "# Calculate the difference\n",
    "df1['Difference'] = df1['After therapy'] - df1['Before therapy']\n",
    "\n",
    "# Print the DataFrame\n",
    "print(df1)"
   ]
  },
  {
   "cell_type": "code",
   "execution_count": 26,
   "id": "65d38a32",
   "metadata": {},
   "outputs": [
    {
     "name": "stdout",
     "output_type": "stream",
     "text": [
      "Wilcoxon signed-rank test statistic: 0.0\n",
      "p-value: 0.001953125\n"
     ]
    }
   ],
   "source": [
    "from scipy.stats import wilcoxon\n",
    "\n",
    "# Perform Wilcoxon signed-rank test\n",
    "statistic, p_value = wilcoxon(df1['Before therapy'], df1['After therapy'])\n",
    "\n",
    "# Print the test statistic and p-value\n",
    "print(\"Wilcoxon signed-rank test statistic:\", statistic)\n",
    "print(\"p-value:\", p_value)"
   ]
  },
  {
   "cell_type": "markdown",
   "id": "2ae9f5ed",
   "metadata": {},
   "source": [
    "Since the p-value (0.0019) is less than the typical significance level of 0.05, we can conclude that the therapy had a significant effect on anxiety levels. This indicates that there is a statistically significant difference between the anxiety levels before and after the therapy.\n",
    "\n",
    "In summary, the Wilcoxon signed-rank test suggests that the therapy had a significant positive effect on reducing anxiety levels."
   ]
  },
  {
   "cell_type": "markdown",
   "id": "4aba410f",
   "metadata": {},
   "source": [
    "Q-9. Given the score of students in multiple exams\n",
    "\n",
    "Test the hypothesis that the mean scores of all the students are the same. If not, name the\n",
    "student with the highest score."
   ]
  },
  {
   "cell_type": "code",
   "execution_count": 27,
   "id": "84f7fef9",
   "metadata": {},
   "outputs": [
    {
     "name": "stdout",
     "output_type": "stream",
     "text": [
      "      Name  Exam 1  Exam 2  Final Exam\n",
      "0    Karan      85      90          92\n",
      "1    Deepa      70      80          85\n",
      "2  Karthik      90      85          88\n",
      "3  Chandan      75      70          75\n",
      "4   Jeevan      95      92          96\n"
     ]
    }
   ],
   "source": [
    "import pandas as pd\n",
    "\n",
    "# Create a dictionary with the data\n",
    "data = {\n",
    "    'Name': ['Karan', 'Deepa', 'Karthik', 'Chandan', 'Jeevan'],\n",
    "    'Exam 1': [85, 70, 90, 75, 95],\n",
    "    'Exam 2': [90, 80, 85, 70, 92],\n",
    "    'Final Exam': [92, 85, 88, 75, 96]\n",
    "}\n",
    "\n",
    "# Create a DataFrame from the dictionary\n",
    "df2= pd.DataFrame(data)\n",
    "\n",
    "# Print the DataFrame\n",
    "print(df2)"
   ]
  },
  {
   "cell_type": "code",
   "execution_count": 28,
   "id": "ad49295f",
   "metadata": {},
   "outputs": [
    {
     "name": "stdout",
     "output_type": "stream",
     "text": [
      "F-statistic: 0.3236947791164659\n",
      "p-value: 0.7295954253321559\n",
      "Student with the highest score: Jeevan\n"
     ]
    }
   ],
   "source": [
    "import scipy.stats as stats\n",
    "\n",
    "# Perform one-way ANOVA\n",
    "f_statistic, p_value = stats.f_oneway(df2['Exam 1'], df2['Exam 2'], df2['Final Exam'])\n",
    "\n",
    "# Print the F-statistic and p-value\n",
    "print(\"F-statistic:\", f_statistic)\n",
    "print(\"p-value:\", p_value)\n",
    "\n",
    "# Calculate the maximum score for each student\n",
    "df2['Max Score'] = df2[['Exam 1', 'Exam 2', 'Final Exam']].max(axis=1)\n",
    "\n",
    "# Sort the DataFrame by the maximum score in descending order\n",
    "sorted_df2 = df2.sort_values(by='Max Score', ascending=False)\n",
    "\n",
    "# Get the student with the highest score\n",
    "highest_score_student = sorted_df2.iloc[0]['Name']\n",
    "\n",
    "# Print the student with the highest score\n",
    "print(\"Student with the highest score:\", highest_score_student)"
   ]
  },
  {
   "cell_type": "markdown",
   "id": "c2c79249",
   "metadata": {},
   "source": [
    "Q-10. A factory produces light bulbs, and the probability of a bulb being defective is 0.05.\n",
    "The factory produces a large batch of 500 light bulbs.\n",
    "a. What is the probability that exactly 20 bulbs are defective?\n",
    "b. What is the probability that at least 10 bulbs are defective?\n",
    "c. What is the probability that at max 15 bulbs are defective?\n",
    "d. On average, how many defective bulbs would you expect in a batch of 500?"
   ]
  },
  {
   "cell_type": "code",
   "execution_count": 29,
   "id": "5d28060f",
   "metadata": {},
   "outputs": [
    {
     "name": "stdout",
     "output_type": "stream",
     "text": [
      "Probability of exactly 20 bulbs being defective: 0.0483661403058116\n"
     ]
    }
   ],
   "source": [
    "#a\n",
    "import scipy.stats as stats\n",
    "import math\n",
    "\n",
    "n = 500\n",
    "p = 0.05\n",
    "k = 20\n",
    "\n",
    "mean = n * p\n",
    "std_dev = math.sqrt(n * p * (1 - p))\n",
    "\n",
    "probability_20_defective = stats.norm.cdf(k + 0.5, loc=mean, scale=std_dev) - stats.norm.cdf(k - 0.5, loc=mean, scale=std_dev)\n",
    "print(\"Probability of exactly 20 bulbs being defective:\", probability_20_defective)"
   ]
  },
  {
   "cell_type": "code",
   "execution_count": 30,
   "id": "b100b0f0",
   "metadata": {},
   "outputs": [
    {
     "name": "stdout",
     "output_type": "stream",
     "text": [
      "Probability of at least 10 bulbs being defective: 0.9992649777488151\n"
     ]
    }
   ],
   "source": [
    "#b\n",
    "k = 10\n",
    "\n",
    "probability_at_least_10_defective = stats.norm.sf(k - 0.5, loc=mean, scale=std_dev)\n",
    "print(\"Probability of at least 10 bulbs being defective:\", probability_at_least_10_defective)"
   ]
  },
  {
   "cell_type": "code",
   "execution_count": null,
   "id": "5fe8b72a",
   "metadata": {},
   "outputs": [],
   "source": [
    "#c\n",
    "k = 15\n",
    "\n",
    "probability_at_most_15_defective = stats.norm.cdf(k + 0.5, loc=mean, scale=std_dev)\n",
    "print(\"Probability of at most 15 bulbs being defective:\", probability_at_most_15_defective)"
   ]
  },
  {
   "cell_type": "code",
   "execution_count": null,
   "id": "4b4bf206",
   "metadata": {},
   "outputs": [],
   "source": [
    "#d\n",
    "expected_defective_bulbs = n * p\n",
    "print(\"Expected number of defective bulbs:\", expected_defective_bulbs)"
   ]
  },
  {
   "cell_type": "markdown",
   "id": "27c13545",
   "metadata": {},
   "source": [
    "Q-11. Given the data of a feature contributing to different classes\n",
    "\n",
    "https://drive.google.com/file/d/1mCjtYHiX--mMUjicuaP2gH3k-SnFxt8Y/view?usp=share_\n",
    "\n",
    "a. Check whether the distribution of all the classes are the same or not.\n",
    "b. Check for the equality of variance/\n",
    "c. Which amount LDA and QDA would perform better on this data for\n",
    "classification and why.\n",
    "d. Check the equality of mean for between all the classes."
   ]
  },
  {
   "cell_type": "code",
   "execution_count": 31,
   "id": "038bbd8e",
   "metadata": {},
   "outputs": [
    {
     "name": "stdout",
     "output_type": "stream",
     "text": [
      "Column Names: Index(['Patient ID', ' Blood Pressure Before (mmHg)',\n",
      "       ' Blood Pressure After (mmHg)'],\n",
      "      dtype='object')\n",
      "Class Distribution:\n",
      " 128    12\n",
      "127    11\n",
      "136    11\n",
      "135     8\n",
      "130     7\n",
      "145     6\n",
      "139     6\n",
      "143     6\n",
      "124     6\n",
      "140     6\n",
      "132     6\n",
      "142     6\n",
      "131     5\n",
      "137     1\n",
      "122     1\n",
      "148     1\n",
      "120     1\n",
      "Name:  Blood Pressure Before (mmHg), dtype: int64\n",
      "Variance - Before:  43.53727272727271\n",
      "Variance - After:  47.4448484848485\n",
      "Mean - Before:  133.91\n",
      "Mean - After:  128.36\n"
     ]
    }
   ],
   "source": [
    "print(\"Column Names:\", df.columns)\n",
    "\n",
    "# Check the distribution of all the classes (in this case, it's the before and after blood pressure measurements)\n",
    "class_distribution = df[' Blood Pressure Before (mmHg)'].value_counts()\n",
    "print(\"Class Distribution:\\n\", class_distribution)\n",
    "\n",
    "# Check for the equality of variance\n",
    "variance_before = df[' Blood Pressure Before (mmHg)'].var()\n",
    "variance_after = df[' Blood Pressure After (mmHg)'].var()\n",
    "print(\"Variance - Before: \", variance_before)\n",
    "print(\"Variance - After: \", variance_after)\n",
    "\n",
    "# Perform LDA and QDA\n",
    "# LDA assumes equal class covariance matrices and uses linear decision boundaries\n",
    "# QDA relaxes the assumption of equal class covariance matrices and uses quadratic decision boundaries\n",
    "\n",
    "# Check the equality of mean between all the classes\n",
    "mean_before = df[' Blood Pressure Before (mmHg)'].mean()\n",
    "mean_after = df[' Blood Pressure After (mmHg)'].mean()\n",
    "print(\"Mean - Before: \", mean_before)\n",
    "print(\"Mean - After: \", mean_after)"
   ]
  },
  {
   "cell_type": "markdown",
   "id": "1aeafdcd",
   "metadata": {},
   "source": [
    "Q-12. A pharmaceutical company develops a new drug and wants to compare its\n",
    "effectiveness against a standard drug for treating a particular condition. They conduct a\n",
    "study with two groups: Group A receives the new drug, and Group B receives the standard\n",
    "drug. The company measures the improvement in a specific symptom for both groups after\n",
    "a 4-week treatment period.\n",
    "a. The company collects data from 30 patients in each group and calculates the\n",
    "mean improvement score and the standard deviation of improvement for each\n",
    "group. The mean improvement score for Group A is 2.5 with a standard\n",
    "deviation of 0.8, while the mean improvement score for Group B is 2.2 with a\n",
    "standard deviation of 0.6. Conduct a t-test to determine if there is a significant\n",
    "difference in the mean improvement scores between the two groups. Use a\n",
    "significance level of 0.05.\n",
    "b. Based on the t-test results, state whether the null hypothesis should be\n",
    "rejected or not. Provide a conclusion in the context of the study."
   ]
  },
  {
   "cell_type": "code",
   "execution_count": 32,
   "id": "58328dfb",
   "metadata": {},
   "outputs": [
    {
     "name": "stdout",
     "output_type": "stream",
     "text": [
      "Reject the null hypothesis. There is a significant difference in the mean improvement scores between Group A and Group B.\n"
     ]
    }
   ],
   "source": [
    "import scipy.stats as stats\n",
    "\n",
    "# Given data\n",
    "meanA = 2.5\n",
    "stdDevA = 0.8\n",
    "nA = 30\n",
    "\n",
    "meanB = 2.2\n",
    "stdDevB = 0.6\n",
    "nB = 30\n",
    "\n",
    "# Calculate the test statistic (t-value)\n",
    "squaredDevA = stdDevA ** 2\n",
    "squaredDevB = stdDevB ** 2\n",
    "t = (meanA - meanB) / ((squaredDevA / nA) + (squaredDevB / nB)) ** 0.5\n",
    "\n",
    "# Calculate the degrees of freedom\n",
    "df = nA + nB - 2\n",
    "\n",
    "# Calculate the critical t-value for a two-tailed test at 0.05 significance level\n",
    "critical_t = stats.t.ppf(0.025, df)\n",
    "\n",
    "# Compare the calculated t-value with the critical t-value\n",
    "if t > critical_t:\n",
    "    conclusion = \"Reject the null hypothesis. There is a significant difference in the mean improvement scores between Group A and Group B.\"\n",
    "else:\n",
    "    conclusion = \"Fail to reject the null hypothesis. There is no significant difference in the mean improvement scores between Group A and Group B.\"\n",
    "\n",
    "# Print the conclusion\n",
    "print(conclusion)"
   ]
  }
 ],
 "metadata": {
  "kernelspec": {
   "display_name": "Python 3 (ipykernel)",
   "language": "python",
   "name": "python3"
  },
  "language_info": {
   "codemirror_mode": {
    "name": "ipython",
    "version": 3
   },
   "file_extension": ".py",
   "mimetype": "text/x-python",
   "name": "python",
   "nbconvert_exporter": "python",
   "pygments_lexer": "ipython3",
   "version": "3.9.12"
  }
 },
 "nbformat": 4,
 "nbformat_minor": 5
}
